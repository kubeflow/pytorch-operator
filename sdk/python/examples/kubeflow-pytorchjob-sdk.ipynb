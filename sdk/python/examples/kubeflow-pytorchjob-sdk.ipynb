{
 "cells": [
  {
   "cell_type": "markdown",
   "metadata": {},
   "source": [
    "# Sample for Kubeflow PyTorchJob SDK"
   ]
  },
  {
   "cell_type": "markdown",
   "metadata": {},
   "source": [
    "This is a sample for Kubeflow PyTorchJob SDK `kubeflow-pytorchjob`.\n",
    "\n",
    "The notebook shows how to use Kubeflow PyTorchJob SDK to create, get, wait, check and delete PyTorchJob."
   ]
  },
  {
   "cell_type": "code",
   "execution_count": 1,
   "metadata": {},
   "outputs": [],
   "source": [
    "from kubernetes.client import V1PodTemplateSpec\n",
    "from kubernetes.client import V1ObjectMeta\n",
    "from kubernetes.client import V1PodSpec\n",
    "from kubernetes.client import V1Container\n",
    "from kubernetes.client import V1ResourceRequirements\n",
    "\n",
    "from kubeflow.pytorchjob import constants\n",
    "from kubeflow.pytorchjob import utils\n",
    "from kubeflow.pytorchjob import V1ReplicaSpec\n",
    "from kubeflow.pytorchjob import V1PyTorchJob\n",
    "from kubeflow.pytorchjob import V1PyTorchJobSpec\n",
    "from kubeflow.pytorchjob import PyTorchJobClient"
   ]
  },
  {
   "cell_type": "markdown",
   "metadata": {},
   "source": [
    "Define namespace where pytorchjob needs to be created to. If not specified, below function defines namespace to the current one where SDK is running in the cluster, otherwise it will deploy to default namespace."
   ]
  },
  {
   "cell_type": "code",
   "execution_count": 2,
   "metadata": {},
   "outputs": [],
   "source": [
    "namespace = utils.get_default_target_namespace()"
   ]
  },
  {
   "cell_type": "markdown",
   "metadata": {},
   "source": [
    "### Define PyTorchJob"
   ]
  },
  {
   "cell_type": "markdown",
   "metadata": {},
   "source": [
    "The demo only creates a worker of PyTorchJob to run mnist sample."
   ]
  },
  {
   "cell_type": "code",
   "execution_count": 3,
   "metadata": {},
   "outputs": [],
   "source": [
    "container = V1Container(\n",
    "    name=\"pytorch\",\n",
    "    image=\"gcr.io/kubeflow-ci/pytorch-dist-mnist-test:v1.0\",\n",
    "    args=[\"--backend\",\"gloo\"]\n",
    ")\n",
    "\n",
    "master = V1ReplicaSpec(\n",
    "    replicas=1,\n",
    "    restart_policy=\"OnFailure\",\n",
    "    template=V1PodTemplateSpec(\n",
    "        spec=V1PodSpec(\n",
    "            containers=[container]\n",
    "        )\n",
    "    )\n",
    ")\n",
    "\n",
    "worker = V1ReplicaSpec(\n",
    "    replicas=1,\n",
    "    restart_policy=\"OnFailure\",\n",
    "    template=V1PodTemplateSpec(\n",
    "        spec=V1PodSpec(\n",
    "            containers=[container]\n",
    "        )\n",
    "    )\n",
    ")\n",
    "\n",
    "pytorchjob = V1PyTorchJob(\n",
    "    api_version=\"kubeflow.org/v1\",\n",
    "    kind=\"PyTorchJob\",\n",
    "    metadata=V1ObjectMeta(name=\"pytorch-dist-mnist-gloo\",namespace=namespace),\n",
    "    spec=V1PyTorchJobSpec(\n",
    "        clean_pod_policy=\"None\",\n",
    "        pytorch_replica_specs={\"Master\": master,\n",
    "                               \"Worker\": worker}\n",
    "    )\n",
    ")"
   ]
  },
  {
   "cell_type": "markdown",
   "metadata": {},
   "source": [
    "### Create PyTorchJob"
   ]
  },
  {
   "cell_type": "code",
   "execution_count": 4,
   "metadata": {},
   "outputs": [
    {
     "data": {
      "text/plain": [
       "{'apiVersion': 'kubeflow.org/v1',\n",
       " 'kind': 'PyTorchJob',\n",
       " 'metadata': {'creationTimestamp': '2019-12-18T02:22:07Z',\n",
       "  'generation': 1,\n",
       "  'name': 'pytorch-dist-mnist-gloo',\n",
       "  'namespace': 'default',\n",
       "  'resourceVersion': '13983940',\n",
       "  'selfLink': '/apis/kubeflow.org/v1/namespaces/default/pytorchjobs/pytorch-dist-mnist-gloo',\n",
       "  'uid': '3055f681-213d-11ea-9e34-00000a1001ee'},\n",
       " 'spec': {'cleanPodPolicy': 'None',\n",
       "  'pytorchReplicaSpecs': {'Master': {'replicas': 1,\n",
       "    'restartPolicy': 'OnFailure',\n",
       "    'template': {'spec': {'containers': [{'args': ['--backend', 'gloo'],\n",
       "        'image': 'gcr.io/kubeflow-ci/pytorch-dist-mnist-test:v1.0',\n",
       "        'name': 'pytorch'}]}}},\n",
       "   'Worker': {'replicas': 1,\n",
       "    'restartPolicy': 'OnFailure',\n",
       "    'template': {'spec': {'containers': [{'args': ['--backend', 'gloo'],\n",
       "        'image': 'gcr.io/kubeflow-ci/pytorch-dist-mnist-test:v1.0',\n",
       "        'name': 'pytorch'}]}}}}}}"
      ]
     },
     "execution_count": 4,
     "metadata": {},
     "output_type": "execute_result"
    }
   ],
   "source": [
    "pytorch_client = PyTorchJobClient()\n",
    "pytorch_client.create(pytorchjob)"
   ]
  },
  {
   "cell_type": "markdown",
   "metadata": {},
   "source": [
    "### Get the created PyTorchJob "
   ]
  },
  {
   "cell_type": "code",
   "execution_count": 5,
   "metadata": {},
   "outputs": [
    {
     "data": {
      "text/plain": [
       "{'apiVersion': 'kubeflow.org/v1',\n",
       " 'kind': 'PyTorchJob',\n",
       " 'metadata': {'creationTimestamp': '2019-12-18T02:22:07Z',\n",
       "  'generation': 1,\n",
       "  'name': 'pytorch-dist-mnist-gloo',\n",
       "  'namespace': 'default',\n",
       "  'resourceVersion': '13983953',\n",
       "  'selfLink': '/apis/kubeflow.org/v1/namespaces/default/pytorchjobs/pytorch-dist-mnist-gloo',\n",
       "  'uid': '3055f681-213d-11ea-9e34-00000a1001ee'},\n",
       " 'spec': {'cleanPodPolicy': 'None',\n",
       "  'pytorchReplicaSpecs': {'Master': {'replicas': 1,\n",
       "    'restartPolicy': 'OnFailure',\n",
       "    'template': {'spec': {'containers': [{'args': ['--backend', 'gloo'],\n",
       "        'image': 'gcr.io/kubeflow-ci/pytorch-dist-mnist-test:v1.0',\n",
       "        'name': 'pytorch'}]}}},\n",
       "   'Worker': {'replicas': 1,\n",
       "    'restartPolicy': 'OnFailure',\n",
       "    'template': {'spec': {'containers': [{'args': ['--backend', 'gloo'],\n",
       "        'image': 'gcr.io/kubeflow-ci/pytorch-dist-mnist-test:v1.0',\n",
       "        'name': 'pytorch'}]}}}}},\n",
       " 'status': {'conditions': [{'lastTransitionTime': '2019-12-18T02:22:07Z',\n",
       "    'lastUpdateTime': '2019-12-18T02:22:07Z',\n",
       "    'message': 'PyTorchJob pytorch-dist-mnist-gloo is created.',\n",
       "    'reason': 'PyTorchJobCreated',\n",
       "    'status': 'True',\n",
       "    'type': 'Created'}],\n",
       "  'replicaStatuses': {'Master': {}, 'Worker': {}},\n",
       "  'startTime': '2019-12-18T02:22:08Z'}}"
      ]
     },
     "execution_count": 5,
     "metadata": {},
     "output_type": "execute_result"
    }
   ],
   "source": [
    "pytorch_client.get('pytorch-dist-mnist-gloo')"
   ]
  },
  {
   "cell_type": "markdown",
   "metadata": {},
   "source": [
    "### Get the PyTorchJob status, check if the PyTorchJob has been started."
   ]
  },
  {
   "cell_type": "code",
   "execution_count": 6,
   "metadata": {},
   "outputs": [
    {
     "data": {
      "text/plain": [
       "'Created'"
      ]
     },
     "execution_count": 6,
     "metadata": {},
     "output_type": "execute_result"
    }
   ],
   "source": [
    "pytorch_client.get_job_status('pytorch-dist-mnist-gloo', namespace=namespace)"
   ]
  },
  {
   "cell_type": "markdown",
   "metadata": {},
   "source": [
    "### Wait for the specified PyTorchJob to finish"
   ]
  },
  {
   "cell_type": "code",
   "execution_count": 7,
   "metadata": {},
   "outputs": [
    {
     "data": {
      "text/plain": [
       "{'apiVersion': 'kubeflow.org/v1',\n",
       " 'kind': 'PyTorchJob',\n",
       " 'metadata': {'creationTimestamp': '2019-12-18T02:22:07Z',\n",
       "  'generation': 1,\n",
       "  'name': 'pytorch-dist-mnist-gloo',\n",
       "  'namespace': 'default',\n",
       "  'resourceVersion': '13985828',\n",
       "  'selfLink': '/apis/kubeflow.org/v1/namespaces/default/pytorchjobs/pytorch-dist-mnist-gloo',\n",
       "  'uid': '3055f681-213d-11ea-9e34-00000a1001ee'},\n",
       " 'spec': {'cleanPodPolicy': 'None',\n",
       "  'pytorchReplicaSpecs': {'Master': {'replicas': 1,\n",
       "    'restartPolicy': 'OnFailure',\n",
       "    'template': {'spec': {'containers': [{'args': ['--backend', 'gloo'],\n",
       "        'image': 'gcr.io/kubeflow-ci/pytorch-dist-mnist-test:v1.0',\n",
       "        'name': 'pytorch'}]}}},\n",
       "   'Worker': {'replicas': 1,\n",
       "    'restartPolicy': 'OnFailure',\n",
       "    'template': {'spec': {'containers': [{'args': ['--backend', 'gloo'],\n",
       "        'image': 'gcr.io/kubeflow-ci/pytorch-dist-mnist-test:v1.0',\n",
       "        'name': 'pytorch'}]}}}}},\n",
       " 'status': {'completionTime': '2019-12-18T02:27:50Z',\n",
       "  'conditions': [{'lastTransitionTime': '2019-12-18T02:22:07Z',\n",
       "    'lastUpdateTime': '2019-12-18T02:22:07Z',\n",
       "    'message': 'PyTorchJob pytorch-dist-mnist-gloo is created.',\n",
       "    'reason': 'PyTorchJobCreated',\n",
       "    'status': 'True',\n",
       "    'type': 'Created'},\n",
       "   {'lastTransitionTime': '2019-12-18T02:22:18Z',\n",
       "    'lastUpdateTime': '2019-12-18T02:22:18Z',\n",
       "    'message': 'PyTorchJob pytorch-dist-mnist-gloo is running.',\n",
       "    'reason': 'PyTorchJobRunning',\n",
       "    'status': 'False',\n",
       "    'type': 'Running'},\n",
       "   {'lastTransitionTime': '2019-12-18T02:27:50Z',\n",
       "    'lastUpdateTime': '2019-12-18T02:27:50Z',\n",
       "    'message': 'PyTorchJob pytorch-dist-mnist-gloo is successfully completed.',\n",
       "    'reason': 'PyTorchJobSucceeded',\n",
       "    'status': 'True',\n",
       "    'type': 'Succeeded'}],\n",
       "  'replicaStatuses': {'Master': {'succeeded': 1}, 'Worker': {'succeeded': 1}},\n",
       "  'startTime': '2019-12-18T02:22:08Z'}}"
      ]
     },
     "execution_count": 7,
     "metadata": {},
     "output_type": "execute_result"
    }
   ],
   "source": [
    "pytorch_client.wait_for_job('pytorch-dist-mnist-gloo', namespace=namespace)"
   ]
  },
  {
   "cell_type": "markdown",
   "metadata": {},
   "source": [
    "### Check if the PyTorchJob succeeded"
   ]
  },
  {
   "cell_type": "code",
   "execution_count": 8,
   "metadata": {},
   "outputs": [
    {
     "data": {
      "text/plain": [
       "True"
      ]
     },
     "execution_count": 8,
     "metadata": {},
     "output_type": "execute_result"
    }
   ],
   "source": [
    "pytorch_client.is_job_succeeded('pytorch-dist-mnist-gloo', namespace=namespace)"
   ]
  },
  {
   "cell_type": "markdown",
   "metadata": {},
   "source": [
    "### Delete the PyTorchJob"
   ]
  },
  {
   "cell_type": "code",
   "execution_count": 9,
   "metadata": {},
   "outputs": [
    {
     "data": {
      "text/plain": [
       "{'kind': 'Status',\n",
       " 'apiVersion': 'v1',\n",
       " 'metadata': {},\n",
       " 'status': 'Success',\n",
       " 'details': {'name': 'pytorch-dist-mnist-gloo',\n",
       "  'group': 'kubeflow.org',\n",
       "  'kind': 'pytorchjobs',\n",
       "  'uid': '3055f681-213d-11ea-9e34-00000a1001ee'}}"
      ]
     },
     "execution_count": 9,
     "metadata": {},
     "output_type": "execute_result"
    }
   ],
   "source": [
    "pytorch_client.delete('pytorch-dist-mnist-gloo')"
   ]
  },
  {
   "cell_type": "code",
   "execution_count": null,
   "metadata": {},
   "outputs": [],
   "source": []
  }
 ],
 "metadata": {
  "kernelspec": {
   "display_name": "Python 3",
   "language": "python",
   "name": "python3"
  },
  "language_info": {
   "codemirror_mode": {
    "name": "ipython",
    "version": 3
   },
   "file_extension": ".py",
   "mimetype": "text/x-python",
   "name": "python",
   "nbconvert_exporter": "python",
   "pygments_lexer": "ipython3",
   "version": "3.6.9"
  }
 },
 "nbformat": 4,
 "nbformat_minor": 2
}
